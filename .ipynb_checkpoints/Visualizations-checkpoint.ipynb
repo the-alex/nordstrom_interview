{
 "cells": [
  {
   "cell_type": "markdown",
   "metadata": {},
   "source": [
    "# Visualizing 911 Incident Responses\n",
    "Here, I'll walk through some interesting visualizations from the data.seattle.gov 911 Response dataset. This is only the first 50,000 items from the dataset."
   ]
  },
  {
   "cell_type": "code",
   "execution_count": 23,
   "metadata": {
    "collapsed": false
   },
   "outputs": [],
   "source": [
    "%matplotlib inline\n",
    "\n",
    "import pandas as pd\n",
    "import numpy as np\n",
    "import sklearn\n",
    "import matplotlib\n",
    "import matplotlib.pyplot as plt\n",
    "matplotlib.style.use('ggplot')"
   ]
  },
  {
   "cell_type": "code",
   "execution_count": 47,
   "metadata": {
    "collapsed": false,
    "scrolled": false
   },
   "outputs": [
    {
     "data": {
      "text/html": [
       "<div>\n",
       "<table border=\"1\" class=\"dataframe\">\n",
       "  <thead>\n",
       "    <tr style=\"text-align: right;\">\n",
       "      <th></th>\n",
       "      <th>CAD CDW ID</th>\n",
       "      <th>CAD Event Number</th>\n",
       "      <th>General Offense Number</th>\n",
       "      <th>Event Clearance Code</th>\n",
       "      <th>Event Clearance Description</th>\n",
       "      <th>Event Clearance SubGroup</th>\n",
       "      <th>Event Clearance Group</th>\n",
       "      <th>Event Clearance Date</th>\n",
       "      <th>Hundred Block Location</th>\n",
       "      <th>District/Sector</th>\n",
       "      <th>Zone/Beat</th>\n",
       "      <th>Census Tract</th>\n",
       "      <th>Longitude</th>\n",
       "      <th>Latitude</th>\n",
       "      <th>Incident Location</th>\n",
       "      <th>Initial Type Description</th>\n",
       "      <th>Initial Type Subgroup</th>\n",
       "      <th>Initial Type Group</th>\n",
       "      <th>At Scene Time</th>\n",
       "    </tr>\n",
       "  </thead>\n",
       "  <tbody>\n",
       "    <tr>\n",
       "      <th>0</th>\n",
       "      <td>﻿15736</td>\n",
       "      <td>10000246357</td>\n",
       "      <td>2010246357</td>\n",
       "      <td>242</td>\n",
       "      <td>FIGHT DISTURBANCE</td>\n",
       "      <td>DISTURBANCES</td>\n",
       "      <td>DISTURBANCES</td>\n",
       "      <td>07/17/2010 08:49:00 PM</td>\n",
       "      <td>3XX BLOCK OF PINE ST</td>\n",
       "      <td>M</td>\n",
       "      <td>M2</td>\n",
       "      <td>8100.2001</td>\n",
       "      <td>-122.338147</td>\n",
       "      <td>47.610975</td>\n",
       "      <td>(47.610975163, -122.338146748)</td>\n",
       "      <td>NaN</td>\n",
       "      <td>NaN</td>\n",
       "      <td>NaN</td>\n",
       "      <td>NaN</td>\n",
       "    </tr>\n",
       "    <tr>\n",
       "      <th>1</th>\n",
       "      <td>15737</td>\n",
       "      <td>10000246471</td>\n",
       "      <td>2010246471</td>\n",
       "      <td>65</td>\n",
       "      <td>THEFT - MISCELLANEOUS</td>\n",
       "      <td>THEFT</td>\n",
       "      <td>OTHER PROPERTY</td>\n",
       "      <td>07/17/2010 08:50:00 PM</td>\n",
       "      <td>36XX BLOCK OF DISCOVERY PARK BLVD</td>\n",
       "      <td>Q</td>\n",
       "      <td>Q1</td>\n",
       "      <td>5700.1012</td>\n",
       "      <td>-122.404613</td>\n",
       "      <td>47.658325</td>\n",
       "      <td>(47.658324899, -122.404612874)</td>\n",
       "      <td>NaN</td>\n",
       "      <td>NaN</td>\n",
       "      <td>NaN</td>\n",
       "      <td>NaN</td>\n",
       "    </tr>\n",
       "    <tr>\n",
       "      <th>2</th>\n",
       "      <td>15738</td>\n",
       "      <td>10000246255</td>\n",
       "      <td>2010246255</td>\n",
       "      <td>250</td>\n",
       "      <td>MISCHIEF, NUISANCE COMPLAINTS</td>\n",
       "      <td>NUISANCE, MISCHIEF COMPLAINTS</td>\n",
       "      <td>NUISANCE, MISCHIEF</td>\n",
       "      <td>07/17/2010 08:55:00 PM</td>\n",
       "      <td>21XX BLOCK OF 3RD AVE</td>\n",
       "      <td>M</td>\n",
       "      <td>M2</td>\n",
       "      <td>7200.2025</td>\n",
       "      <td>-122.342843</td>\n",
       "      <td>47.613551</td>\n",
       "      <td>(47.613551471, -122.342843234)</td>\n",
       "      <td>NaN</td>\n",
       "      <td>NaN</td>\n",
       "      <td>NaN</td>\n",
       "      <td>NaN</td>\n",
       "    </tr>\n",
       "    <tr>\n",
       "      <th>3</th>\n",
       "      <td>15739</td>\n",
       "      <td>10000246473</td>\n",
       "      <td>2010246473</td>\n",
       "      <td>460</td>\n",
       "      <td>TRAFFIC (MOVING) VIOLATION</td>\n",
       "      <td>TRAFFIC RELATED CALLS</td>\n",
       "      <td>TRAFFIC RELATED CALLS</td>\n",
       "      <td>07/17/2010 09:00:00 PM</td>\n",
       "      <td>7XX BLOCK OF ROY ST</td>\n",
       "      <td>D</td>\n",
       "      <td>D1</td>\n",
       "      <td>7200.1002</td>\n",
       "      <td>-122.341847</td>\n",
       "      <td>47.625401</td>\n",
       "      <td>(47.625401388, -122.341846999)</td>\n",
       "      <td>NaN</td>\n",
       "      <td>NaN</td>\n",
       "      <td>NaN</td>\n",
       "      <td>NaN</td>\n",
       "    </tr>\n",
       "    <tr>\n",
       "      <th>4</th>\n",
       "      <td>15740</td>\n",
       "      <td>10000246330</td>\n",
       "      <td>2010246330</td>\n",
       "      <td>250</td>\n",
       "      <td>MISCHIEF, NUISANCE COMPLAINTS</td>\n",
       "      <td>NUISANCE, MISCHIEF COMPLAINTS</td>\n",
       "      <td>NUISANCE, MISCHIEF</td>\n",
       "      <td>07/17/2010 09:00:00 PM</td>\n",
       "      <td>9XX BLOCK OF ALOHA ST</td>\n",
       "      <td>D</td>\n",
       "      <td>D1</td>\n",
       "      <td>6700.1009</td>\n",
       "      <td>-122.339709</td>\n",
       "      <td>47.627425</td>\n",
       "      <td>(47.627424837, -122.339708605)</td>\n",
       "      <td>NaN</td>\n",
       "      <td>NaN</td>\n",
       "      <td>NaN</td>\n",
       "      <td>NaN</td>\n",
       "    </tr>\n",
       "  </tbody>\n",
       "</table>\n",
       "</div>"
      ],
      "text/plain": [
       "  CAD CDW ID  CAD Event Number  General Offense Number  Event Clearance Code  \\\n",
       "0     ﻿15736       10000246357              2010246357                   242   \n",
       "1      15737       10000246471              2010246471                    65   \n",
       "2      15738       10000246255              2010246255                   250   \n",
       "3      15739       10000246473              2010246473                   460   \n",
       "4      15740       10000246330              2010246330                   250   \n",
       "\n",
       "     Event Clearance Description       Event Clearance SubGroup  \\\n",
       "0              FIGHT DISTURBANCE                   DISTURBANCES   \n",
       "1          THEFT - MISCELLANEOUS                          THEFT   \n",
       "2  MISCHIEF, NUISANCE COMPLAINTS  NUISANCE, MISCHIEF COMPLAINTS   \n",
       "3     TRAFFIC (MOVING) VIOLATION          TRAFFIC RELATED CALLS   \n",
       "4  MISCHIEF, NUISANCE COMPLAINTS  NUISANCE, MISCHIEF COMPLAINTS   \n",
       "\n",
       "   Event Clearance Group    Event Clearance Date  \\\n",
       "0           DISTURBANCES  07/17/2010 08:49:00 PM   \n",
       "1         OTHER PROPERTY  07/17/2010 08:50:00 PM   \n",
       "2    NUISANCE, MISCHIEF   07/17/2010 08:55:00 PM   \n",
       "3  TRAFFIC RELATED CALLS  07/17/2010 09:00:00 PM   \n",
       "4    NUISANCE, MISCHIEF   07/17/2010 09:00:00 PM   \n",
       "\n",
       "              Hundred Block Location District/Sector Zone/Beat  Census Tract  \\\n",
       "0               3XX BLOCK OF PINE ST               M        M2     8100.2001   \n",
       "1  36XX BLOCK OF DISCOVERY PARK BLVD               Q        Q1     5700.1012   \n",
       "2              21XX BLOCK OF 3RD AVE               M        M2     7200.2025   \n",
       "3                7XX BLOCK OF ROY ST               D        D1     7200.1002   \n",
       "4              9XX BLOCK OF ALOHA ST               D        D1     6700.1009   \n",
       "\n",
       "    Longitude   Latitude               Incident Location  \\\n",
       "0 -122.338147  47.610975  (47.610975163, -122.338146748)   \n",
       "1 -122.404613  47.658325  (47.658324899, -122.404612874)   \n",
       "2 -122.342843  47.613551  (47.613551471, -122.342843234)   \n",
       "3 -122.341847  47.625401  (47.625401388, -122.341846999)   \n",
       "4 -122.339709  47.627425  (47.627424837, -122.339708605)   \n",
       "\n",
       "   Initial Type Description  Initial Type Subgroup  Initial Type Group  \\\n",
       "0                       NaN                    NaN                 NaN   \n",
       "1                       NaN                    NaN                 NaN   \n",
       "2                       NaN                    NaN                 NaN   \n",
       "3                       NaN                    NaN                 NaN   \n",
       "4                       NaN                    NaN                 NaN   \n",
       "\n",
       "   At Scene Time  \n",
       "0            NaN  \n",
       "1            NaN  \n",
       "2            NaN  \n",
       "3            NaN  \n",
       "4            NaN  "
      ]
     },
     "execution_count": 47,
     "metadata": {},
     "output_type": "execute_result"
    }
   ],
   "source": [
    "data = pd.read_csv('data/seattle-police-department-911-incident-responses.csv')\n",
    "data.head()"
   ]
  },
  {
   "cell_type": "code",
   "execution_count": 44,
   "metadata": {
    "collapsed": false
   },
   "outputs": [
    {
     "data": {
      "text/plain": [
       "<matplotlib.axes._subplots.AxesSubplot at 0x10ad85c10>"
      ]
     },
     "execution_count": 44,
     "metadata": {},
     "output_type": "execute_result"
    },
    {
     "data": {
      "image/png": "[encoded data removed]",
      "text/plain": [
       "<matplotlib.figure.Figure at 0x10a42d2d0>"
      ]
     },
     "metadata": {},
     "output_type": "display_data"
    }
   ],
   "source": [
    "data['Event Clearance Group'].value_counts()[:10].plot(kind='barh')"
   ]
  },
  {
   "cell_type": "code",
   "execution_count": null,
   "metadata": {
    "collapsed": true
   },
   "outputs": [],
   "source": [
    "dists = data.loc[data['Event Clearance Group'] == 'DISTURBANCES']"
   ]
  }
 ],
 "metadata": {
  "kernelspec": {
   "display_name": "Python 2",
   "language": "python",
   "name": "python2"
  },
  "language_info": {
   "codemirror_mode": {
    "name": "ipython",
    "version": 2
   },
   "file_extension": ".py",
   "mimetype": "text/x-python",
   "name": "python",
   "nbconvert_exporter": "python",
   "pygments_lexer": "ipython2",
   "version": "2.7.10"
  }
 },
 "nbformat": 4,
 "nbformat_minor": 0
}
